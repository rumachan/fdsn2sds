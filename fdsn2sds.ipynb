{
 "cells": [
  {
   "cell_type": "markdown",
   "metadata": {},
   "source": [
    "# Create a SDS file structure by retrieving data from a FDSN web server"
   ]
  },
  {
   "cell_type": "markdown",
   "metadata": {},
   "source": [
    "If you need a SDS file structure, but only have a FDSN web server to provide data, then you can run a series of data requests to te server and create SDS.\n",
    "\n",
    "For GeoNet, we have the particular issue of two FDSN web servers. You can get around this by retrieving from each server and merging the streams, taking care to check that the streams exist."
   ]
  },
  {
   "cell_type": "code",
   "execution_count": null,
   "metadata": {},
   "outputs": [],
   "source": [
    "from obspy.core import UTCDateTime\n",
    "from obspy.clients.fdsn import Client\n",
    "import pandas as pd\n",
    "import os"
   ]
  },
  {
   "cell_type": "code",
   "execution_count": null,
   "metadata": {},
   "outputs": [],
   "source": [
    "#GeoNet's FDSN web servers\n",
    "arc_client = 'http://service.geonet.org.nz'\n",
    "nrt_client = 'http://service-nrt.geonet.org.nz'"
   ]
  },
  {
   "cell_type": "code",
   "execution_count": null,
   "metadata": {},
   "outputs": [],
   "source": [
    "#SDS file structure to create\n",
    "sds = '/home/sherburn/SDS/geonet_sds'"
   ]
  },
  {
   "cell_type": "code",
   "execution_count": null,
   "metadata": {},
   "outputs": [],
   "source": [
    "#GeoNet station list\n",
    "stations = ['KUTZ', 'WPRZ', 'ALRZ', 'ARAZ', 'HRRZ', 'PRRZ', 'THQ2']\n",
    "# stations = ['KUTZ']\n",
    "net = 'NZ'\n",
    "loc = '10'\n",
    "components = ['EHZ', 'EHN', 'EHE']\n",
    "# components = ['EHE']"
   ]
  },
  {
   "cell_type": "code",
   "execution_count": null,
   "metadata": {},
   "outputs": [],
   "source": [
    "#get data for one day, try both servers\n",
    "def daywave(date, net, sta, loc, cmp):\n",
    "    global stnrt\n",
    "    global starc\n",
    "    \n",
    "    time = UTCDateTime(date)\n",
    "        \n",
    "    #arc client\n",
    "    try:\n",
    "        client = Client(arc_client)\n",
    "        starc = client.get_waveforms(net, sta, loc, cmp, time, time + 86400)\n",
    "        print ('arc client successful')\n",
    "    except:\n",
    "        print ('arc client not successful')\n",
    "                \n",
    "    #nrt client\n",
    "    try:\n",
    "        client = Client(nrt_client)\n",
    "        stnrt = client.get_waveforms(net, sta, loc, cmp, time, time + 86400)\n",
    "        print ('nrt client successful')\n",
    "    except:\n",
    "        print ('nrt client not successful')   "
   ]
  },
  {
   "cell_type": "code",
   "execution_count": null,
   "metadata": {},
   "outputs": [],
   "source": [
    "#date range for waveform data, dates are inclusive\n",
    "#edit next two lines to set date range\n",
    "date1 = '20190401'\n",
    "date2 = '20190430'"
   ]
  },
  {
   "cell_type": "code",
   "execution_count": null,
   "metadata": {},
   "outputs": [],
   "source": [
    "for sta in stations:\n",
    "    for cmp in components:\n",
    "        for date in pd.date_range(start=date1, end=date2, freq='D'):\n",
    "            print (sta, cmp, loc, net, date)\n",
    "            year = date.timetuple().tm_year\n",
    "            yday = date.timetuple().tm_yday\n",
    "            folder = os.path.join(sds, str(year), net, sta, cmp+'.D')\n",
    "            if not os.path.exists(folder):\n",
    "                os.makedirs(folder)\n",
    "            file = os.path.join(folder, net+'.'+sta+'.'+loc+'.'+cmp+'.D.'+str(year)+'.'+str(yday).zfill(3))\n",
    "            print (file)\n",
    "            \n",
    "            daywave(date, net, sta, loc, cmp)\n",
    "            \n",
    "            #check starc\n",
    "            try:\n",
    "                starc\n",
    "                st = starc\n",
    "                del starc\n",
    "                print ('st = starc')\n",
    "                try:\n",
    "                    stnrt #if defined, add stnrt\n",
    "                    st += stnrt\n",
    "                    del stnrt\n",
    "                    print ('st = starc+stnrt')\n",
    "                except NameError: print ('stnrt not defined')\n",
    "            except NameError: print ('starc not defined')\n",
    "                \n",
    "            #check stnrt, only passes if not already added to st\n",
    "            try:\n",
    "                stnrt\n",
    "                st = stnrt\n",
    "                del stnrt\n",
    "                print ('st = stnrt')\n",
    "            except NameError: print ('stnrt not defined')\n",
    "            \n",
    "            st.merge(fill_value = 'interpolate')\n",
    "            print (st)\n",
    "            st.write(file, format=\"MSEED\")\n",
    "            print ('---------')\n",
    "           "
   ]
  }
 ],
 "metadata": {
  "kernelspec": {
   "display_name": "Python 3",
   "language": "python",
   "name": "python3"
  },
  "language_info": {
   "codemirror_mode": {
    "name": "ipython",
    "version": 3
   },
   "file_extension": ".py",
   "mimetype": "text/x-python",
   "name": "python",
   "nbconvert_exporter": "python",
   "pygments_lexer": "ipython3",
   "version": "3.7.1"
  }
 },
 "nbformat": 4,
 "nbformat_minor": 2
}
