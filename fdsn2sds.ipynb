{
 "cells": [
  {
   "cell_type": "markdown",
   "metadata": {},
   "source": [
    "# Create a SDS file structure by retrieving data from a FDSN web server"
   ]
  },
  {
   "cell_type": "markdown",
   "metadata": {},
   "source": [
    "If you need a SDS file structure, but only have a FDSN web server to provide data, then you can run a series of data requests to the server and create SDS.\n",
    "\n",
    "For GeoNet, we have the particular issue of two FDSN web servers. You can get around this by retrieving from each server and merging the streams."
   ]
  },
  {
   "cell_type": "code",
   "execution_count": 29,
   "metadata": {},
   "outputs": [],
   "source": [
    "from obspy.core import UTCDateTime, Stream\n",
    "from obspy.clients.fdsn import Client\n",
    "import pandas as pd\n",
    "import os"
   ]
  },
  {
   "cell_type": "code",
   "execution_count": 30,
   "metadata": {},
   "outputs": [],
   "source": [
    "#GeoNet's FDSN web servers\n",
    "arc_client = 'http://service.geonet.org.nz'\n",
    "nrt_client = 'http://service-nrt.geonet.org.nz'"
   ]
  },
  {
   "cell_type": "code",
   "execution_count": 31,
   "metadata": {},
   "outputs": [],
   "source": [
    "#SDS file structure to create\n",
    "sds = '/home/sherburn/SDS/test_sds'"
   ]
  },
  {
   "cell_type": "code",
   "execution_count": 32,
   "metadata": {},
   "outputs": [],
   "source": [
    "#GeoNet station list\n",
    "# stations = ['KUTZ', 'WPRZ', 'ALRZ', 'ARAZ', 'HRRZ', 'PRRZ', 'THQ2']\n",
    "stations = ['THQ2']\n",
    "net = 'NZ'\n",
    "loc = '10'\n",
    "components = ['EHZ', 'EHN', 'EHE', 'EH1', 'EH2']"
   ]
  },
  {
   "cell_type": "code",
   "execution_count": 33,
   "metadata": {},
   "outputs": [],
   "source": [
    "#get data for one day, try both servers\n",
    "def daywave(date, net, sta, loc, cmp):\n",
    "    global st\n",
    "    \n",
    "    st = Stream()\n",
    "    starc = Stream()\n",
    "    stnrt = Stream()\n",
    "    \n",
    "    time = UTCDateTime(date)\n",
    "    \n",
    "    client = Client(arc_client)\n",
    "    try:\n",
    "        starc = client.get_waveforms(net, sta, loc, cmp, time, time + 60)\n",
    "    except:\n",
    "        pass\n",
    "\n",
    "    client = Client(nrt_client)\n",
    "    try:\n",
    "        stnrt = client.get_waveforms(net, sta, loc, cmp, time, time + 60)\n",
    "    except:\n",
    "        pass\n",
    "    \n",
    "    st = starc + stnrt\n",
    "    st.merge(fill_value = 'interpolate')"
   ]
  },
  {
   "cell_type": "code",
   "execution_count": 35,
   "metadata": {},
   "outputs": [],
   "source": [
    "#date range for waveform data, dates are inclusive\n",
    "#edit next two lines to set date range\n",
    "date1 = '20190501'\n",
    "date2 = '20190512'"
   ]
  },
  {
   "cell_type": "code",
   "execution_count": 36,
   "metadata": {},
   "outputs": [
    {
     "name": "stdout",
     "output_type": "stream",
     "text": [
      "writing: /home/sherburn/SDS/test_sds/2019/NZ/THQ2/EHZ.D/NZ.THQ2.10.EHZ.D.2019.121\n",
      "writing: /home/sherburn/SDS/test_sds/2019/NZ/THQ2/EHZ.D/NZ.THQ2.10.EHZ.D.2019.122\n",
      "writing: /home/sherburn/SDS/test_sds/2019/NZ/THQ2/EHZ.D/NZ.THQ2.10.EHZ.D.2019.123\n",
      "writing: /home/sherburn/SDS/test_sds/2019/NZ/THQ2/EHZ.D/NZ.THQ2.10.EHZ.D.2019.124\n",
      "writing: /home/sherburn/SDS/test_sds/2019/NZ/THQ2/EHZ.D/NZ.THQ2.10.EHZ.D.2019.125\n",
      "writing: /home/sherburn/SDS/test_sds/2019/NZ/THQ2/EHZ.D/NZ.THQ2.10.EHZ.D.2019.126\n",
      "writing: /home/sherburn/SDS/test_sds/2019/NZ/THQ2/EHZ.D/NZ.THQ2.10.EHZ.D.2019.127\n",
      "writing: /home/sherburn/SDS/test_sds/2019/NZ/THQ2/EHZ.D/NZ.THQ2.10.EHZ.D.2019.128\n",
      "writing: /home/sherburn/SDS/test_sds/2019/NZ/THQ2/EHZ.D/NZ.THQ2.10.EHZ.D.2019.129\n",
      "writing: /home/sherburn/SDS/test_sds/2019/NZ/THQ2/EHZ.D/NZ.THQ2.10.EHZ.D.2019.130\n",
      "writing: /home/sherburn/SDS/test_sds/2019/NZ/THQ2/EHZ.D/NZ.THQ2.10.EHZ.D.2019.131\n",
      "writing: /home/sherburn/SDS/test_sds/2019/NZ/THQ2/EHZ.D/NZ.THQ2.10.EHZ.D.2019.132\n",
      "writing: /home/sherburn/SDS/test_sds/2019/NZ/THQ2/EH1.D/NZ.THQ2.10.EH1.D.2019.121\n",
      "writing: /home/sherburn/SDS/test_sds/2019/NZ/THQ2/EH1.D/NZ.THQ2.10.EH1.D.2019.122\n",
      "writing: /home/sherburn/SDS/test_sds/2019/NZ/THQ2/EH1.D/NZ.THQ2.10.EH1.D.2019.123\n",
      "writing: /home/sherburn/SDS/test_sds/2019/NZ/THQ2/EH1.D/NZ.THQ2.10.EH1.D.2019.124\n",
      "writing: /home/sherburn/SDS/test_sds/2019/NZ/THQ2/EH1.D/NZ.THQ2.10.EH1.D.2019.125\n",
      "writing: /home/sherburn/SDS/test_sds/2019/NZ/THQ2/EH1.D/NZ.THQ2.10.EH1.D.2019.126\n",
      "writing: /home/sherburn/SDS/test_sds/2019/NZ/THQ2/EH1.D/NZ.THQ2.10.EH1.D.2019.127\n",
      "writing: /home/sherburn/SDS/test_sds/2019/NZ/THQ2/EH1.D/NZ.THQ2.10.EH1.D.2019.128\n",
      "writing: /home/sherburn/SDS/test_sds/2019/NZ/THQ2/EH1.D/NZ.THQ2.10.EH1.D.2019.129\n",
      "writing: /home/sherburn/SDS/test_sds/2019/NZ/THQ2/EH1.D/NZ.THQ2.10.EH1.D.2019.130\n",
      "writing: /home/sherburn/SDS/test_sds/2019/NZ/THQ2/EH1.D/NZ.THQ2.10.EH1.D.2019.131\n",
      "writing: /home/sherburn/SDS/test_sds/2019/NZ/THQ2/EH1.D/NZ.THQ2.10.EH1.D.2019.132\n",
      "writing: /home/sherburn/SDS/test_sds/2019/NZ/THQ2/EH2.D/NZ.THQ2.10.EH2.D.2019.121\n",
      "writing: /home/sherburn/SDS/test_sds/2019/NZ/THQ2/EH2.D/NZ.THQ2.10.EH2.D.2019.122\n",
      "writing: /home/sherburn/SDS/test_sds/2019/NZ/THQ2/EH2.D/NZ.THQ2.10.EH2.D.2019.123\n",
      "writing: /home/sherburn/SDS/test_sds/2019/NZ/THQ2/EH2.D/NZ.THQ2.10.EH2.D.2019.124\n",
      "writing: /home/sherburn/SDS/test_sds/2019/NZ/THQ2/EH2.D/NZ.THQ2.10.EH2.D.2019.125\n",
      "writing: /home/sherburn/SDS/test_sds/2019/NZ/THQ2/EH2.D/NZ.THQ2.10.EH2.D.2019.126\n",
      "writing: /home/sherburn/SDS/test_sds/2019/NZ/THQ2/EH2.D/NZ.THQ2.10.EH2.D.2019.127\n",
      "writing: /home/sherburn/SDS/test_sds/2019/NZ/THQ2/EH2.D/NZ.THQ2.10.EH2.D.2019.128\n",
      "writing: /home/sherburn/SDS/test_sds/2019/NZ/THQ2/EH2.D/NZ.THQ2.10.EH2.D.2019.129\n",
      "writing: /home/sherburn/SDS/test_sds/2019/NZ/THQ2/EH2.D/NZ.THQ2.10.EH2.D.2019.130\n",
      "writing: /home/sherburn/SDS/test_sds/2019/NZ/THQ2/EH2.D/NZ.THQ2.10.EH2.D.2019.131\n",
      "writing: /home/sherburn/SDS/test_sds/2019/NZ/THQ2/EH2.D/NZ.THQ2.10.EH2.D.2019.132\n"
     ]
    }
   ],
   "source": [
    "for sta in stations:\n",
    "    for cmp in components:\n",
    "        for date in pd.date_range(start=date1, end=date2, freq='D'):\n",
    "#             print (sta, cmp, loc, net, date)\n",
    "            \n",
    "            daywave(date, net, sta, loc, cmp)\n",
    "            \n",
    "            if st.count() > 0:\n",
    "                year = date.timetuple().tm_year\n",
    "                yday = date.timetuple().tm_yday\n",
    "                folder = os.path.join(sds, str(year), net, sta, cmp+'.D')\n",
    "                if not os.path.exists(folder):\n",
    "                    os.makedirs(folder)\n",
    "                file = os.path.join(folder, net+'.'+sta+'.'+loc+'.'+cmp+'.D.'+str(year)+'.'+str(yday).zfill(3))\n",
    "                print ('writing:', file)\n",
    "                st.write(file, format=\"MSEED\")          "
   ]
  }
 ],
 "metadata": {
  "kernelspec": {
   "display_name": "Python 3",
   "language": "python",
   "name": "python3"
  },
  "language_info": {
   "codemirror_mode": {
    "name": "ipython",
    "version": 3
   },
   "file_extension": ".py",
   "mimetype": "text/x-python",
   "name": "python",
   "nbconvert_exporter": "python",
   "pygments_lexer": "ipython3",
   "version": "3.7.1"
  }
 },
 "nbformat": 4,
 "nbformat_minor": 2
}
